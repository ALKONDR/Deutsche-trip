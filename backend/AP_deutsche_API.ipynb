{
 "cells": [
  {
   "cell_type": "code",
   "execution_count": 2,
   "metadata": {
    "collapsed": true
   },
   "outputs": [],
   "source": [
    "import urllib\n",
    "from flask import abort, request, Flask\n",
    "import requests\n",
    "import json"
   ]
  },
  {
   "cell_type": "code",
   "execution_count": 3,
   "metadata": {
    "collapsed": false
   },
   "outputs": [],
   "source": [
    "client_id = 'aff8e8e9-0f5d-4fb7-8f9f-ce19fbef6b5c'\n",
    "client_secret = json.load(open('secret.json'))['client_secret']\n",
    "redirect_uri = \"http://127.0.0.1:5000/callback\"\n",
    "base_url = \"https://simulator-api.db.com/gw/oidc/authorize\""
   ]
  },
  {
   "cell_type": "code",
   "execution_count": 7,
   "metadata": {
    "collapsed": false,
    "scrolled": true
   },
   "outputs": [
    {
     "name": "stderr",
     "output_type": "stream",
     "text": [
      " * Running on http://127.0.0.1:5000/ (Press CTRL+C to quit)\n",
      "127.0.0.1 - - [18/Mar/2017 05:13:51] \"GET / HTTP/1.1\" 200 -\n",
      "127.0.0.1 - - [18/Mar/2017 05:13:57] \"GET /callback?code=4SebZR&state=http://127.0.0.1:5000/callback HTTP/1.1\" 200 -\n"
     ]
    }
   ],
   "source": [
    "app = Flask(__name__)\n",
    "\n",
    "# Authorization\n",
    "@app.route(\"/\")\n",
    "def homepage():\n",
    "    text = '<a href=\"%s\">Authenticate with Deutsche Bank</a>'\n",
    "    return text % make_authorization_url()\n",
    "\n",
    "def make_authorization_url():\n",
    "    params = {\"client_id\": client_id,\n",
    "              \"response_type\": \"code\",\n",
    "              \"state\": redirect_uri,\n",
    "              \"redirect_uri\": redirect_uri}\n",
    "    import urllib\n",
    "    url = base_url + \"?\" + urllib.urlencode(params)\n",
    "    return url\n",
    "\n",
    "@app.route('/callback')\n",
    "def deutsche_callback():\n",
    "    error = request.args.get('error', '')\n",
    "    if error:\n",
    "        return \"Error: \" + error\n",
    "    code = request.args.get('code')\n",
    "    access_token = get_token(code)\n",
    "    return get_transactions(access_token)\n",
    "\n",
    "\n",
    "def get_token(code):\n",
    "    client_auth = requests.auth.HTTPBasicAuth(client_id, client_secret)\n",
    "    post_data = {\"grant_type\": \"authorization_code\",\n",
    "                 \"code\": code,\n",
    "                 \"redirect_uri\": redirect_uri}\n",
    "    response = requests.post(\"https://simulator-api.db.com/gw/oidc/token\",\n",
    "                             auth=client_auth,\n",
    "                             data=post_data)\n",
    "    token_json = response.json()\n",
    "    return token_json[\"access_token\"]\n",
    "\n",
    "\n",
    "def get_cashAccounts(access_token):\n",
    "    trans_url = 'https://simulator-api.db.com/gw/dbapi/v1/cashAccounts'\n",
    "    headers = {\"Authorization\": \"bearer \" + access_token}\n",
    "    response = requests.get(trans_url, headers=headers)\n",
    "    response = response.json()\n",
    "    s = ''\n",
    "    for i in range(len(response)):\n",
    "        s += \"iban: \"+response[i]['iban'] + \"<br/> balance: \" + str(response[i]['balance']) +\\\n",
    "            '<br/> productDescription: ' + response[i]['productDescription'] + '<br/><br/>' \n",
    "    return response\n",
    "\n",
    "def get_transactions(access_token):\n",
    "    trans_url = 'https://simulator-api.db.com/gw/dbapi/v1/transactions'\n",
    "    headers = {\"Authorization\": \"bearer \" + access_token}\n",
    "    response = requests.get(trans_url, headers=headers)\n",
    "    response = response.json()\n",
    "    s = ''\n",
    "    for i in range(len(response)):\n",
    "        s += \"iban: \"+response[i]['originIban'] + \"<br/> amount: \" + str(response[i]['amount']) +\\\n",
    "            '<br/> bookingDate: ' + response[i]['bookingDate'] \n",
    "        if 'counterPartyName' in response[i]:\n",
    "            s += '<br/> counterPartyName: ' + response[i]['counterPartyName']\n",
    "        if 'counterPartyIban' in response[i]:\n",
    "            s += '<br/> counterPartyIban: ' + response[i]['counterPartyIban']\n",
    "        if 'usage' in response[i]:\n",
    "            s += '<br/> usage: ' + response[i]['usage']            \n",
    "        s += '<br/><br/>' \n",
    "        \n",
    "    s += '<br/><br/>' \n",
    "    cashAccounts = get_cashAccounts(access_token)\n",
    "    for i in range(len(cashAccounts)):\n",
    "        s += \"iban: \"+cashAccounts[i]['iban'] + \"<br/> balance: \" + str(cashAccounts[i]['balance']) +\\\n",
    "            '<br/> productDescription: ' + cashAccounts[i]['productDescription'] + '<br/><br/>'\n",
    "    return s\n",
    "\n",
    "if __name__ == \"__main__\":\n",
    "    app.run()"
   ]
  },
  {
   "cell_type": "code",
   "execution_count": null,
   "metadata": {
    "collapsed": true
   },
   "outputs": [],
   "source": []
  },
  {
   "cell_type": "code",
   "execution_count": null,
   "metadata": {
    "collapsed": false
   },
   "outputs": [],
   "source": []
  }
 ],
 "metadata": {
  "anaconda-cloud": {},
  "kernelspec": {
   "display_name": "Python [conda root]",
   "language": "python",
   "name": "conda-root-py"
  }
 },
 "nbformat": 4,
 "nbformat_minor": 1
}
